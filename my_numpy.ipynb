{
  "nbformat": 4,
  "nbformat_minor": 0,
  "metadata": {
    "colab": {
      "name": "my_numpy.ipynb",
      "provenance": [],
      "collapsed_sections": [],
      "authorship_tag": "ABX9TyP/XsLDb2kfagczV0MvTFLx",
      "include_colab_link": true
    },
    "kernelspec": {
      "name": "python3",
      "display_name": "Python 3"
    },
    "language_info": {
      "name": "python"
    }
  },
  "cells": [
    {
      "cell_type": "markdown",
      "metadata": {
        "id": "view-in-github",
        "colab_type": "text"
      },
      "source": [
        "<a href=\"https://colab.research.google.com/github/Syed414/AI-Club/blob/main/my_numpy.ipynb\" target=\"_parent\"><img src=\"https://colab.research.google.com/assets/colab-badge.svg\" alt=\"Open In Colab\"/></a>"
      ]
    },
    {
      "cell_type": "code",
      "metadata": {
        "id": "BWkBr2486Hlj"
      },
      "source": [
        "import numpy as np"
      ],
      "execution_count": 1,
      "outputs": []
    },
    {
      "cell_type": "markdown",
      "metadata": {
        "id": "PCu1SQUr6T2j"
      },
      "source": [
        "importing numpy as pd\n"
      ]
    },
    {
      "cell_type": "markdown",
      "metadata": {
        "id": "KQHUV4gl6c49"
      },
      "source": [
        " create an array in Numpy "
      ]
    },
    {
      "cell_type": "code",
      "metadata": {
        "colab": {
          "base_uri": "https://localhost:8080/"
        },
        "id": "3IlgqqLY6fLs",
        "outputId": "992dc842-fd26-4fe9-afd7-9077147ffc32"
      },
      "source": [
        "myPythonList = [1,7,3,4]\n",
        "print(myPythonList)"
      ],
      "execution_count": 2,
      "outputs": [
        {
          "output_type": "stream",
          "text": [
            "[1, 7, 3, 4]\n"
          ],
          "name": "stdout"
        }
      ]
    },
    {
      "cell_type": "markdown",
      "metadata": {
        "id": "eekeryOZ6yb6"
      },
      "source": [
        " using the object np.array  using the object np.array"
      ]
    },
    {
      "cell_type": "code",
      "metadata": {
        "colab": {
          "base_uri": "https://localhost:8080/"
        },
        "id": "2BtTorLX61-m",
        "outputId": "8277f0c0-d1a5-4f78-ebfc-d2c75ccf097f"
      },
      "source": [
        "numpy_array_from_list=np.array(myPythonList)\n",
        "numpy_array_from_list"
      ],
      "execution_count": 6,
      "outputs": [
        {
          "output_type": "execute_result",
          "data": {
            "text/plain": [
              "array([1, 7, 3, 4])"
            ]
          },
          "metadata": {
            "tags": []
          },
          "execution_count": 6
        }
      ]
    },
    {
      "cell_type": "markdown",
      "metadata": {
        "id": "YQLJZwa77yea"
      },
      "source": [
        "Example"
      ]
    },
    {
      "cell_type": "code",
      "metadata": {
        "colab": {
          "base_uri": "https://localhost:8080/"
        },
        "id": "r9ZeUdN17326",
        "outputId": "44e74d18-e306-44ed-82ab-bee684680964"
      },
      "source": [
        "a=np.array([1,2,3,4,5])\n",
        "print(a)"
      ],
      "execution_count": 9,
      "outputs": [
        {
          "output_type": "stream",
          "text": [
            "[1 2 3 4 5]\n"
          ],
          "name": "stdout"
        }
      ]
    },
    {
      "cell_type": "markdown",
      "metadata": {
        "id": "1--18jLr8IXL"
      },
      "source": [
        "Adding 10 to my list."
      ]
    },
    {
      "cell_type": "code",
      "metadata": {
        "colab": {
          "base_uri": "https://localhost:8080/"
        },
        "id": "q87SGpq38LRg",
        "outputId": "8ea68c38-dd06-4907-be14-9ed2157a9600"
      },
      "source": [
        "a=numpy_array_from_list+10\n",
        "print(a)"
      ],
      "execution_count": 11,
      "outputs": [
        {
          "output_type": "stream",
          "text": [
            "[11 17 13 14]\n"
          ],
          "name": "stdout"
        }
      ]
    },
    {
      "cell_type": "markdown",
      "metadata": {
        "id": "AKKMXvyO8xK8"
      },
      "source": [
        "shape"
      ]
    },
    {
      "cell_type": "code",
      "metadata": {
        "colab": {
          "base_uri": "https://localhost:8080/"
        },
        "id": "3UdSpfGE81hA",
        "outputId": "f0e4dce8-35aa-4a0a-b9cf-e8e64daf981f"
      },
      "source": [
        "a= np.array([1,2,3,4])\n",
        "print(a.shape)\n",
        "print(a.dtype)"
      ],
      "execution_count": 13,
      "outputs": [
        {
          "output_type": "stream",
          "text": [
            "(4,)\n",
            "int64\n"
          ],
          "name": "stdout"
        }
      ]
    },
    {
      "cell_type": "markdown",
      "metadata": {
        "id": "gclf_LV09vf2"
      },
      "source": [
        "2d array"
      ]
    },
    {
      "cell_type": "code",
      "metadata": {
        "colab": {
          "base_uri": "https://localhost:8080/"
        },
        "id": "aIXXQnRZ913K",
        "outputId": "357214b3-8fe8-48ee-c1af-901cb4450a02"
      },
      "source": [
        "c=np.array([(1,2,3,4),(5,6,7,8)])\n",
        "print(c)"
      ],
      "execution_count": 14,
      "outputs": [
        {
          "output_type": "stream",
          "text": [
            "[[1 2 3 4]\n",
            " [5 6 7 8]]\n"
          ],
          "name": "stdout"
        }
      ]
    },
    {
      "cell_type": "markdown",
      "metadata": {
        "id": "mYFZo2yN-cW6"
      },
      "source": [
        "3d- array"
      ]
    },
    {
      "cell_type": "code",
      "metadata": {
        "colab": {
          "base_uri": "https://localhost:8080/"
        },
        "id": "NXQ937rj-epC",
        "outputId": "0f0083bb-0e73-4988-e8b5-9b8c60411c5f"
      },
      "source": [
        "c=np.array([(1,2,3,4),(5,6,7,8),(9,10,11,12)])\n",
        "print(c)"
      ],
      "execution_count": 15,
      "outputs": [
        {
          "output_type": "stream",
          "text": [
            "[[ 1  2  3  4]\n",
            " [ 5  6  7  8]\n",
            " [ 9 10 11 12]]\n"
          ],
          "name": "stdout"
        }
      ]
    },
    {
      "cell_type": "markdown",
      "metadata": {
        "id": "gsSC3zT5_NLB"
      },
      "source": [
        "matrix with full of zeroes using np.zeroes"
      ]
    },
    {
      "cell_type": "code",
      "metadata": {
        "colab": {
          "base_uri": "https://localhost:8080/"
        },
        "id": "f0wRZLoPAw7y",
        "outputId": "24d8551b-b10c-4965-ac57-ff838975769c"
      },
      "source": [
        "import numpy as np\n",
        "x=np.zeros((2,2), dtype=np.int16)\n",
        "print(x)"
      ],
      "execution_count": 18,
      "outputs": [
        {
          "output_type": "stream",
          "text": [
            "[[0 0]\n",
            " [0 0]]\n"
          ],
          "name": "stdout"
        }
      ]
    },
    {
      "cell_type": "code",
      "metadata": {
        "colab": {
          "base_uri": "https://localhost:8080/"
        },
        "id": "h6gS4rUDBZux",
        "outputId": "4f3a8cd9-5a9d-4ebf-f602-9382e618f1b9"
      },
      "source": [
        "import numpy as np\n",
        "x=np.zeros((3,3), dtype=np.int16)\n",
        "print(x)"
      ],
      "execution_count": 19,
      "outputs": [
        {
          "output_type": "stream",
          "text": [
            "[[0 0 0]\n",
            " [0 0 0]\n",
            " [0 0 0]]\n"
          ],
          "name": "stdout"
        }
      ]
    },
    {
      "cell_type": "code",
      "metadata": {
        "colab": {
          "base_uri": "https://localhost:8080/"
        },
        "id": "KkI7VcnsBhAL",
        "outputId": "5b80a053-05aa-447a-c7a3-ca3015b55ec8"
      },
      "source": [
        "import numpy as np\n",
        "x=np.ones((3,3), dtype=np.int16)\n",
        "print(x)"
      ],
      "execution_count": 20,
      "outputs": [
        {
          "output_type": "stream",
          "text": [
            "[[1 1 1]\n",
            " [1 1 1]\n",
            " [1 1 1]]\n"
          ],
          "name": "stdout"
        }
      ]
    },
    {
      "cell_type": "markdown",
      "metadata": {
        "id": "K31anK21Bm5Y"
      },
      "source": [
        "Flatten Data "
      ]
    },
    {
      "cell_type": "code",
      "metadata": {
        "colab": {
          "base_uri": "https://localhost:8080/"
        },
        "id": "ekIic11vBr3w",
        "outputId": "60496edf-5cc9-4e66-e2f7-27ded537efd5"
      },
      "source": [
        "x.flatten()\n"
      ],
      "execution_count": 22,
      "outputs": [
        {
          "output_type": "execute_result",
          "data": {
            "text/plain": [
              "array([1, 1, 1, 1, 1, 1, 1, 1, 1], dtype=int16)"
            ]
          },
          "metadata": {
            "tags": []
          },
          "execution_count": 22
        }
      ]
    },
    {
      "cell_type": "markdown",
      "metadata": {
        "id": "XmPRr3FGB9rp"
      },
      "source": [
        "Append data horizontally using hstack"
      ]
    },
    {
      "cell_type": "code",
      "metadata": {
        "colab": {
          "base_uri": "https://localhost:8080/"
        },
        "id": "IGlIgFCTCEsb",
        "outputId": "bc886915-f446-4c14-8c8d-d90f5a0d83d8"
      },
      "source": [
        "import numpy as np\n",
        "f = np.array([1,2,3])\n",
        "g = np.array([4,5,6])\n",
        "print(np.hstack((f,g)))"
      ],
      "execution_count": 26,
      "outputs": [
        {
          "output_type": "stream",
          "text": [
            "[1 2 3 4 5 6]\n"
          ],
          "name": "stdout"
        }
      ]
    },
    {
      "cell_type": "markdown",
      "metadata": {
        "id": "2hYA0uCiCxx8"
      },
      "source": [
        "Append data vertically using vstack"
      ]
    },
    {
      "cell_type": "code",
      "metadata": {
        "colab": {
          "base_uri": "https://localhost:8080/"
        },
        "id": "nVfcIj4OC1ZF",
        "outputId": "c70d628a-e251-4dc9-f044-4e079cd10eaf"
      },
      "source": [
        "import numpy as np\n",
        "f = np.array([1,2,3])\n",
        "g = np.array([4,5,6])\n",
        "print(np.vstack((f,g)))"
      ],
      "execution_count": 27,
      "outputs": [
        {
          "output_type": "stream",
          "text": [
            "[[1 2 3]\n",
            " [4 5 6]]\n"
          ],
          "name": "stdout"
        }
      ]
    },
    {
      "cell_type": "markdown",
      "metadata": {
        "id": "PY5VMgqxC8SF"
      },
      "source": [
        "Generate Random Numbers\n",
        "syntax is numpy.random.normal(loc, scale, size)"
      ]
    },
    {
      "cell_type": "code",
      "metadata": {
        "colab": {
          "base_uri": "https://localhost:8080/"
        },
        "id": "b8NBPEIDDE9A",
        "outputId": "f598f5d3-507e-4d85-c786-c0d15b45224c"
      },
      "source": [
        "normal_array = np.random.normal(5, 0.5, 10)\n",
        "print(normal_array)"
      ],
      "execution_count": 28,
      "outputs": [
        {
          "output_type": "stream",
          "text": [
            "[4.5812552  4.47824722 5.087462   4.58307126 4.79099186 4.51948131\n",
            " 4.03662284 4.80873378 4.91625798 5.27566748]\n"
          ],
          "name": "stdout"
        }
      ]
    },
    {
      "cell_type": "code",
      "metadata": {
        "colab": {
          "base_uri": "https://localhost:8080/"
        },
        "id": "MeYDgdPsDcsO",
        "outputId": "35f3818e-53b9-4e01-d6a7-2fbbb0761555"
      },
      "source": [
        "normal_array = np.random.normal(5, 5, 10)\n",
        "print(normal_array)"
      ],
      "execution_count": 29,
      "outputs": [
        {
          "output_type": "stream",
          "text": [
            "[10.42383397 11.22435413 -4.41482255 -7.35793964  9.08708535 -2.06051244\n",
            "  2.92925971 24.6366192  -3.87335856 -1.07558383]\n"
          ],
          "name": "stdout"
        }
      ]
    },
    {
      "cell_type": "markdown",
      "metadata": {
        "id": "t5ucydzXD6Hj"
      },
      "source": [
        " numpy.arange() \n",
        " Syntax:\n",
        "\n",
        "numpy.arange(start, stop,step) "
      ]
    },
    {
      "cell_type": "code",
      "metadata": {
        "colab": {
          "base_uri": "https://localhost:8080/"
        },
        "id": "M8KO3BNMEjDX",
        "outputId": "7ec81ffc-cd36-46aa-ec71-889804134e4a"
      },
      "source": [
        "np.arange(1,11)"
      ],
      "execution_count": 31,
      "outputs": [
        {
          "output_type": "execute_result",
          "data": {
            "text/plain": [
              "array([ 1,  2,  3,  4,  5,  6,  7,  8,  9, 10])"
            ]
          },
          "metadata": {
            "tags": []
          },
          "execution_count": 31
        }
      ]
    },
    {
      "cell_type": "code",
      "metadata": {
        "colab": {
          "base_uri": "https://localhost:8080/"
        },
        "id": "wcfhqHxiFGoD",
        "outputId": "96619d6a-998f-43d9-de4c-ab74b8881ce3"
      },
      "source": [
        "np.arange(1,20,2)"
      ],
      "execution_count": 32,
      "outputs": [
        {
          "output_type": "execute_result",
          "data": {
            "text/plain": [
              "array([ 1,  3,  5,  7,  9, 11, 13, 15, 17, 19])"
            ]
          },
          "metadata": {
            "tags": []
          },
          "execution_count": 32
        }
      ]
    },
    {
      "cell_type": "markdown",
      "metadata": {
        "id": "W8j9vA_mGf4n"
      },
      "source": [
        "Indexing and slicing data"
      ]
    },
    {
      "cell_type": "code",
      "metadata": {
        "colab": {
          "base_uri": "https://localhost:8080/"
        },
        "id": "LQNmEXfxGhob",
        "outputId": "ecbf0735-4858-42f9-9281-eaa6b2a8b3c6"
      },
      "source": [
        "import numpy as np\n",
        "e=np.array([(1,2,3),(7,8,9)])\n",
        "print(e)"
      ],
      "execution_count": 34,
      "outputs": [
        {
          "output_type": "stream",
          "text": [
            "[[1 2 3]\n",
            " [7 8 9]]\n"
          ],
          "name": "stdout"
        }
      ]
    },
    {
      "cell_type": "code",
      "metadata": {
        "colab": {
          "base_uri": "https://localhost:8080/"
        },
        "id": "SqQmvB_EHQO1",
        "outputId": "6f9c3038-948d-4e77-f936-bd3cf1a94ef4"
      },
      "source": [
        "## 1st row\n",
        "print(e[0])"
      ],
      "execution_count": 35,
      "outputs": [
        {
          "output_type": "stream",
          "text": [
            "[1 2 3]\n"
          ],
          "name": "stdout"
        }
      ]
    },
    {
      "cell_type": "code",
      "metadata": {
        "colab": {
          "base_uri": "https://localhost:8080/"
        },
        "id": "gb7M69TCHYtz",
        "outputId": "86358cda-eed1-410e-aa67-68e957cbacd3"
      },
      "source": [
        "## 2st row\n",
        "print(e[1])"
      ],
      "execution_count": 36,
      "outputs": [
        {
          "output_type": "stream",
          "text": [
            "[7 8 9]\n"
          ],
          "name": "stdout"
        }
      ]
    },
    {
      "cell_type": "code",
      "metadata": {
        "colab": {
          "base_uri": "https://localhost:8080/"
        },
        "id": "LPaijwywHeuu",
        "outputId": "d030e280-5e65-457c-85ca-abc75182846c"
      },
      "source": [
        "## 2nd col\n",
        "print(e[:,1])"
      ],
      "execution_count": 38,
      "outputs": [
        {
          "output_type": "stream",
          "text": [
            "[2 8]\n"
          ],
          "name": "stdout"
        }
      ]
    },
    {
      "cell_type": "code",
      "metadata": {
        "colab": {
          "base_uri": "https://localhost:8080/"
        },
        "id": "okAiyw7BH1u4",
        "outputId": "8bccb2dc-21e6-4e4d-92d4-d82236a8f4f5"
      },
      "source": [
        "## 3nd col\n",
        "print(e[:,2])"
      ],
      "execution_count": 39,
      "outputs": [
        {
          "output_type": "stream",
          "text": [
            "[3 9]\n"
          ],
          "name": "stdout"
        }
      ]
    },
    {
      "cell_type": "code",
      "metadata": {
        "colab": {
          "base_uri": "https://localhost:8080/"
        },
        "id": "bQIwNdXAH_rC",
        "outputId": "51951213-983b-4a5b-e190-f614dc9a10c7"
      },
      "source": [
        "## 2nd row 2 values\n",
        "print(e[1,:2])\n"
      ],
      "execution_count": 41,
      "outputs": [
        {
          "output_type": "stream",
          "text": [
            "[7 8]\n"
          ],
          "name": "stdout"
        }
      ]
    },
    {
      "cell_type": "code",
      "metadata": {
        "colab": {
          "base_uri": "https://localhost:8080/"
        },
        "id": "a9Psf6lJIlC0",
        "outputId": "0c25c2b9-9b0f-4dac-eb5a-5e86c9b3a8e9"
      },
      "source": [
        "##min of array\n",
        "print(np.min(e))"
      ],
      "execution_count": 43,
      "outputs": [
        {
          "output_type": "stream",
          "text": [
            "1\n"
          ],
          "name": "stdout"
        }
      ]
    },
    {
      "cell_type": "code",
      "metadata": {
        "colab": {
          "base_uri": "https://localhost:8080/"
        },
        "id": "MQNeQiU8Izv7",
        "outputId": "02dc125b-6475-4b5f-c61e-5c34127a4b9f"
      },
      "source": [
        "##max of array\n",
        "print(np.max(e))"
      ],
      "execution_count": 44,
      "outputs": [
        {
          "output_type": "stream",
          "text": [
            "9\n"
          ],
          "name": "stdout"
        }
      ]
    },
    {
      "cell_type": "code",
      "metadata": {
        "colab": {
          "base_uri": "https://localhost:8080/"
        },
        "id": "MoxfEsCsI6Qo",
        "outputId": "2e995120-3bd3-4959-8cca-607dfe5f1cdd"
      },
      "source": [
        "##mean of array\n",
        "print(np.mean(e))"
      ],
      "execution_count": 45,
      "outputs": [
        {
          "output_type": "stream",
          "text": [
            "5.0\n"
          ],
          "name": "stdout"
        }
      ]
    },
    {
      "cell_type": "code",
      "metadata": {
        "colab": {
          "base_uri": "https://localhost:8080/"
        },
        "id": "OK_g5gReJC_Z",
        "outputId": "9ee86ffc-0d9b-493e-a3e0-63c417708979"
      },
      "source": [
        "\n",
        "### Median\n",
        "print(np.median(e))"
      ],
      "execution_count": 46,
      "outputs": [
        {
          "output_type": "stream",
          "text": [
            "5.0\n"
          ],
          "name": "stdout"
        }
      ]
    },
    {
      "cell_type": "code",
      "metadata": {
        "colab": {
          "base_uri": "https://localhost:8080/"
        },
        "id": "x3oryz_mJLA9",
        "outputId": "1d96d8a7-5ab0-4d8e-c13d-14aae1dfcf0a"
      },
      "source": [
        " ##Standard deviation np.std()\n",
        " print(np.std(e))"
      ],
      "execution_count": 47,
      "outputs": [
        {
          "output_type": "stream",
          "text": [
            "3.1091263510296048\n"
          ],
          "name": "stdout"
        }
      ]
    }
  ]
}